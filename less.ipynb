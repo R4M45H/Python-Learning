{
 "cells": [
  {
   "cell_type": "code",
   "execution_count": 1,
   "metadata": {},
   "outputs": [
    {
     "name": "stdout",
     "output_type": "stream",
     "text": [
      "hello world\n"
     ]
    }
   ],
   "source": [
    "print('hello world')"
   ]
  },
  {
   "cell_type": "code",
   "execution_count": 2,
   "metadata": {},
   "outputs": [
    {
     "name": "stdout",
     "output_type": "stream",
     "text": [
      "Hello Python world!\n"
     ]
    }
   ],
   "source": [
    "message = 'Hello Python world!'\n",
    "print(message)"
   ]
  },
  {
   "cell_type": "code",
   "execution_count": 3,
   "metadata": {},
   "outputs": [
    {
     "ename": "SyntaxError",
     "evalue": "invalid token (524315281.py, line 1)",
     "output_type": "error",
     "traceback": [
      "\u001b[1;36m  File \u001b[1;32m\"C:\\Users\\Ramaw\\AppData\\Local\\Temp\\ipykernel_12520\\524315281.py\"\u001b[1;36m, line \u001b[1;32m1\u001b[0m\n\u001b[1;33m    1_message = 'test'\u001b[0m\n\u001b[1;37m     ^\u001b[0m\n\u001b[1;31mSyntaxError\u001b[0m\u001b[1;31m:\u001b[0m invalid token\n"
     ]
    }
   ],
   "source": [
    "1_message = 'test'\n",
    "print(1_message)"
   ]
  },
  {
   "cell_type": "code",
   "execution_count": null,
   "metadata": {},
   "outputs": [
    {
     "ename": "NameError",
     "evalue": "name 'mesage' is not defined",
     "output_type": "error",
     "traceback": [
      "\u001b[1;31m---------------------------------------------------------------------------\u001b[0m",
      "\u001b[1;31mNameError\u001b[0m                                 Traceback (most recent call last)",
      "\u001b[1;32m~\\AppData\\Local\\Temp\\ipykernel_10768\\707522394.py\u001b[0m in \u001b[0;36m<module>\u001b[1;34m\u001b[0m\n\u001b[0;32m      1\u001b[0m \u001b[0mmessage\u001b[0m \u001b[1;33m=\u001b[0m \u001b[1;34m'Hello Python world!'\u001b[0m\u001b[1;33m\u001b[0m\u001b[1;33m\u001b[0m\u001b[0m\n\u001b[1;32m----> 2\u001b[1;33m \u001b[0mprint\u001b[0m\u001b[1;33m(\u001b[0m\u001b[0mmesage\u001b[0m\u001b[1;33m)\u001b[0m\u001b[1;33m\u001b[0m\u001b[1;33m\u001b[0m\u001b[0m\n\u001b[0m",
      "\u001b[1;31mNameError\u001b[0m: name 'mesage' is not defined"
     ]
    }
   ],
   "source": [
    "message = 'Hello Python world!'\n",
    "print(mesage)"
   ]
  },
  {
   "cell_type": "code",
   "execution_count": null,
   "metadata": {},
   "outputs": [
    {
     "name": "stdout",
     "output_type": "stream",
     "text": [
      "Dave Mustaine\n"
     ]
    }
   ],
   "source": [
    "name = 'dave mustaine'\n",
    "print(name.title())\n"
   ]
  },
  {
   "cell_type": "code",
   "execution_count": null,
   "metadata": {},
   "outputs": [
    {
     "name": "stdout",
     "output_type": "stream",
     "text": [
      "dave mustaine\n"
     ]
    }
   ],
   "source": [
    "fname = 'dave'\n",
    "lname ='mustaine'\n",
    "full_name = f\"{fname} {lname}\"\n",
    "print(full_name)"
   ]
  },
  {
   "cell_type": "code",
   "execution_count": null,
   "metadata": {},
   "outputs": [
    {
     "name": "stdout",
     "output_type": "stream",
     "text": [
      "Dave Mustaine\n"
     ]
    }
   ],
   "source": [
    "fname = 'dave'\n",
    "lname ='mustaine'\n",
    "full_name = f\"{fname} {lname}\"\n",
    "print(full_name.title())"
   ]
  },
  {
   "cell_type": "code",
   "execution_count": null,
   "metadata": {},
   "outputs": [
    {
     "name": "stdout",
     "output_type": "stream",
     "text": [
      "<class 'str'>\n"
     ]
    }
   ],
   "source": [
    "fname = 'dave'\n",
    "lname ='mustaine'\n",
    "full_name = f\"{fname} {lname}\"\n",
    "print(type(full_name))"
   ]
  },
  {
   "cell_type": "code",
   "execution_count": null,
   "metadata": {},
   "outputs": [
    {
     "name": "stdout",
     "output_type": "stream",
     "text": [
      "<class 'str'>\n"
     ]
    }
   ],
   "source": [
    "fname = 'dave'\n",
    "lname ='mustaine'\n",
    "music = 'megadeath'\n",
    "full_name = \"{} {} {}\".format(fname, lname, music).title()\n",
    "print(full_name)"
   ]
  },
  {
   "cell_type": "code",
   "execution_count": null,
   "metadata": {},
   "outputs": [
    {
     "name": "stdout",
     "output_type": "stream",
     "text": [
      "Python\n",
      "\tI love Python\n",
      "\n",
      "Language:\n",
      "\tI love Python\n",
      "JavaScript\n",
      "\tJava\n"
     ]
    }
   ],
   "source": [
    "print('Python')\n",
    "\n",
    "print('\\tI love Python')\n",
    "\n",
    "print('\\nLanguage:\\n\\tI love Python\\nJavaScript\\n\\tJava')"
   ]
  },
  {
   "cell_type": "code",
   "execution_count": null,
   "metadata": {},
   "outputs": [],
   "source": [
    "lang = 'Python N'\n",
    "print(lang.strip())\n"
   ]
  },
  {
   "cell_type": "code",
   "execution_count": null,
   "metadata": {},
   "outputs": [
    {
     "name": "stdout",
     "output_type": "stream",
     "text": [
      "True\n"
     ]
    }
   ],
   "source": [
    "a = 1000\n",
    "b = 1_000\n",
    "print( a == b)\n"
   ]
  },
  {
   "cell_type": "code",
   "execution_count": null,
   "metadata": {},
   "outputs": [
    {
     "name": "stdout",
     "output_type": "stream",
     "text": [
      "1 2 3\n"
     ]
    }
   ],
   "source": [
    "x, y, z = 1, 2, 3\n",
    "print(x,y,z)"
   ]
  },
  {
   "cell_type": "code",
   "execution_count": null,
   "metadata": {},
   "outputs": [
    {
     "data": {
      "text/plain": [
       "' Комментарий '"
      ]
     },
     "execution_count": 37,
     "metadata": {},
     "output_type": "execute_result"
    }
   ],
   "source": [
    "DIMA = 'test' #переменная написанная капсом = константа\n",
    "\"\"\" Комментарий \"\"\"\n"
   ]
  },
  {
   "cell_type": "code",
   "execution_count": null,
   "metadata": {},
   "outputs": [
    {
     "name": "stdout",
     "output_type": "stream",
     "text": [
      "speicalized\n"
     ]
    }
   ],
   "source": [
    "bicycles = ['trek', 'cannonadle', 'redline', 'speicalized']\n",
    "print(bicycles[3])"
   ]
  },
  {
   "cell_type": "code",
   "execution_count": null,
   "metadata": {},
   "outputs": [
    {
     "name": "stdout",
     "output_type": "stream",
     "text": [
      "speicalized\n"
     ]
    }
   ],
   "source": [
    "bicycles = ['trek', 'cannonadle', 'redline', 'speicalized']\n",
    "print(bicycles[-1])"
   ]
  },
  {
   "cell_type": "code",
   "execution_count": null,
   "metadata": {},
   "outputs": [
    {
     "name": "stdout",
     "output_type": "stream",
     "text": [
      "4\n"
     ]
    }
   ],
   "source": [
    "bicycles = ['trek', 'cannonadle', 'redline', 'speicalized']\n",
    "print(len(bicycles))"
   ]
  },
  {
   "cell_type": "code",
   "execution_count": null,
   "metadata": {},
   "outputs": [
    {
     "name": "stdout",
     "output_type": "stream",
     "text": [
      "4\n"
     ]
    }
   ],
   "source": [
    "bicycles = ['trek', 'cannonadle', 'redline', 'speicalized']\n",
    "print(len(bicycles))"
   ]
  },
  {
   "cell_type": "code",
   "execution_count": null,
   "metadata": {},
   "outputs": [
    {
     "name": "stdout",
     "output_type": "stream",
     "text": [
      "[1, 2, 3, 4, 5, 6, 7]\n"
     ]
    }
   ],
   "source": [
    "x = [1, 2, 3, 4]\n",
    "x[len(x):] = [5, 6, 7]\n",
    "print(x) "
   ]
  },
  {
   "cell_type": "code",
   "execution_count": null,
   "metadata": {},
   "outputs": [
    {
     "name": "stdout",
     "output_type": "stream",
     "text": [
      "[-1, 0, 1, 2, 3, 4, 5, 6, 7]\n"
     ]
    }
   ],
   "source": [
    "x = [1, 2, 3, 4]\n",
    "x[len(x):] = [5, 6, 7] # добавляет элементы в конец списка\n",
    "x[:0] = [-1, 0] # добавляет эелементы в начало списка\n",
    "print(x) "
   ]
  },
  {
   "cell_type": "code",
   "execution_count": null,
   "metadata": {},
   "outputs": [
    {
     "name": "stdout",
     "output_type": "stream",
     "text": [
      "[-1, 7]\n"
     ]
    }
   ],
   "source": [
    "x[1:-1] = []\n",
    "print(x)"
   ]
  },
  {
   "cell_type": "code",
   "execution_count": null,
   "metadata": {},
   "outputs": [
    {
     "name": "stdout",
     "output_type": "stream",
     "text": [
      "[1, 2, 3, 4, 'four']\n"
     ]
    }
   ],
   "source": [
    "x = [1, 2, 3]\n",
    "x.append(\"four\")\n",
    "print(x)"
   ]
  },
  {
   "cell_type": "code",
   "execution_count": null,
   "metadata": {},
   "outputs": [
    {
     "name": "stdout",
     "output_type": "stream",
     "text": [
      "[1, 2, 3, 4, [5, 6, 7]]\n"
     ]
    }
   ],
   "source": [
    "x = [1, 2, 3, 4]\n",
    "y = [5,6,7]\n",
    "x.append(y)\n",
    "print(x)"
   ]
  },
  {
   "cell_type": "code",
   "execution_count": null,
   "metadata": {},
   "outputs": [
    {
     "name": "stdout",
     "output_type": "stream",
     "text": [
      "[1, 2, 3, 4, 5, 6, 7]\n"
     ]
    }
   ],
   "source": [
    "x = [1, 2, 3, 4]\n",
    "y = [5,6,7]\n",
    "x.extend(y)\n",
    "print(x)"
   ]
  },
  {
   "cell_type": "code",
   "execution_count": null,
   "metadata": {},
   "outputs": [
    {
     "name": "stdout",
     "output_type": "stream",
     "text": [
      "[1, 2, 'thre', 'hello', 4]\n"
     ]
    }
   ],
   "source": [
    "x = [1, 2, 'thre', 4]\n",
    "x.insert(3, \"hello\")\n",
    "print(x)"
   ]
  },
  {
   "cell_type": "code",
   "execution_count": null,
   "metadata": {},
   "outputs": [
    {
     "name": "stdout",
     "output_type": "stream",
     "text": [
      "['hello', 1, 2, 'thre', 4]\n"
     ]
    }
   ],
   "source": [
    "x = [1, 2, 'thre', 4]\n",
    "x.insert(-0, \"hello\")\n",
    "print(x)"
   ]
  },
  {
   "cell_type": "code",
   "execution_count": null,
   "metadata": {},
   "outputs": [
    {
     "name": "stdout",
     "output_type": "stream",
     "text": [
      "[1, 2, 4]\n"
     ]
    }
   ],
   "source": [
    "x = [1, 2, 'thre', 4]\n",
    "x.remove('thre')\n",
    "print(x)"
   ]
  },
  {
   "cell_type": "code",
   "execution_count": null,
   "metadata": {},
   "outputs": [
    {
     "name": "stdout",
     "output_type": "stream",
     "text": [
      "['honda', 'yamaha', 'suzuki']\n",
      "suzuki\n",
      "['honda', 'yamaha']\n",
      "['honda', 'yamaha', 'suzuki']\n"
     ]
    }
   ],
   "source": [
    "moto = ['honda', 'yamaha', 'suzuki']\n",
    "print(moto)\n",
    "\n",
    "popped_moto = moto.pop()\n",
    "\n",
    "print(popped_moto)\n",
    "print(moto)\n",
    "a = moto.append(popped_moto)\n",
    "print(moto)"
   ]
  },
  {
   "cell_type": "code",
   "execution_count": null,
   "metadata": {},
   "outputs": [
    {
     "name": "stdout",
     "output_type": "stream",
     "text": [
      "['honda', 'yamaha', 'suzuki']\n",
      "suzuki\n",
      "['honda', 'yamaha']\n",
      "['honda', 'yamaha', 'suzuki']\n",
      "['suzuki', 'yamaha', 'honda']\n",
      "['honda', 'suzuki', 'yamaha']\n"
     ]
    }
   ],
   "source": [
    "moto = ['honda', 'yamaha', 'suzuki']\n",
    "print(moto)\n",
    "\n",
    "popped_moto = moto.pop()\n",
    "\n",
    "print(popped_moto)\n",
    "print(moto)\n",
    "a = moto.append(popped_moto)\n",
    "print(moto)\n",
    "\n",
    "moto.reverse()\n",
    "print(moto)\n",
    "\n",
    "moto.sort()\n",
    "print(moto)"
   ]
  },
  {
   "cell_type": "code",
   "execution_count": null,
   "metadata": {},
   "outputs": [
    {
     "name": "stdout",
     "output_type": "stream",
     "text": [
      "['Вася', 'Коля', 'Димас', 'Саша', 'Катя']\n",
      "На обед приглашены: Коля Димас\n",
      "На обед приглашены: Коля Димас\n"
     ]
    }
   ],
   "source": [
    "guest = ['Вася', 'Коля', 'Димас']\n",
    "guest.extend(['Саша', 'Катя'])\n",
    "print(guest)\n",
    "\n",
    "print(f\"На обед приглашены: {guest[1]} {guest[2]}\")\n",
    "print(\"На обед приглашены:\", guest[1], guest[2])\n"
   ]
  },
  {
   "cell_type": "code",
   "execution_count": null,
   "metadata": {},
   "outputs": [
    {
     "name": "stdout",
     "output_type": "stream",
     "text": [
      "Вася приглашен на обед\n",
      "Коля приглашен на обед\n",
      "Димас приглашен на обед\n"
     ]
    }
   ],
   "source": [
    "guest = ['Вася', 'Коля', 'Димас']\n",
    "for i in guest:\n",
    "  print(i + \" \" + \"приглашен на обед\")"
   ]
  },
  {
   "cell_type": "code",
   "execution_count": null,
   "metadata": {},
   "outputs": [
    {
     "name": "stdout",
     "output_type": "stream",
     "text": [
      "[1, 4, 9, 16, 25, 36, 49, 64, 81, 100, 121]\n"
     ]
    }
   ],
   "source": [
    "squares = []\n",
    "for i in range(1, 12):\n",
    "  square = i**2\n",
    "  squares.append(square)\n",
    "print(squares)\n"
   ]
  },
  {
   "cell_type": "code",
   "execution_count": null,
   "metadata": {},
   "outputs": [
    {
     "name": "stdout",
     "output_type": "stream",
     "text": [
      "20\n",
      "22\n",
      "24\n",
      "26\n",
      "28\n"
     ]
    }
   ],
   "source": [
    "i = 20\n",
    "while i < 30:\n",
    "  print(i)\n",
    "  i = i + 2"
   ]
  },
  {
   "cell_type": "code",
   "execution_count": null,
   "metadata": {},
   "outputs": [
    {
     "name": "stdout",
     "output_type": "stream",
     "text": [
      "['Russia', 'Thailand', 'Italy', 'Belarus', 'Finland', 'Sweeden']\n",
      "['Belarus', 'Finland', 'Italy', 'Russia', 'Sweeden', 'Thailand']\n",
      "['Thailand', 'Sweeden', 'Russia', 'Italy', 'Finland', 'Belarus']\n",
      "['Russia', 'Thailand', 'Italy', 'Belarus', 'Finland', 'Sweeden']\n",
      "['Sweeden', 'Finland', 'Belarus', 'Italy', 'Thailand', 'Russia']\n",
      "['Russia', 'Thailand', 'Italy', 'Belarus', 'Finland', 'Sweeden']\n",
      "['Belarus', 'Finland', 'Italy', 'Russia', 'Sweeden', 'Thailand']\n",
      "['Thailand', 'Sweeden', 'Russia', 'Italy', 'Finland', 'Belarus']\n",
      "\n",
      "\n",
      "['Вася', 'Коля', 'Димас']\n",
      "3\n",
      "['Вася', 'Коля', 'Димас', 'Саша', 'Катя', 'Петя']\n",
      "6\n",
      "['Вася', 'Коля', 'Димас', 'Петя']\n",
      "4\n"
     ]
    }
   ],
   "source": [
    "\"\"\"Сохрани названия стран в списке. Проследи за тем, чтобы список не хранился в алфавитном порядке.\"\"\"\n",
    "\n",
    "world = ['Russia', 'Thailand', 'Italy', 'Belarus', 'Finland', 'Sweeden']\n",
    "\n",
    "\"\"\"Выведи список в исходном порядке. Не беспокойся об оформлении, просто выведите его как обычный список Python.\"\"\"\n",
    "print(world)\n",
    "\n",
    "\"\"\"Используй функцию sorted() для вывода списка в алфавитном порядке без изменения списка.\"\"\"\n",
    "print(sorted(world))\n",
    "\n",
    "\n",
    "\"\"\"Используй функцию sorted() для вывода списка в обратном алфавитном порядке без изменения порядка исходного списка.\"\"\"\n",
    "world = ['Russia', 'Thailand', 'Italy', 'Belarus', 'Finland', 'Sweeden']\n",
    "print(sorted(world, reverse = True))\n",
    "\n",
    "\n",
    "\"\"\"Снова выведи список, чтобы показать, что исходный порядок не изменился.\"\"\"\n",
    "print(world)\n",
    "\n",
    "\n",
    "\"\"\"Измени порядок элементов вызовом reverse(). Выведи список, чтобы показать, что элементы следуют в другом порядке.\"\"\"\n",
    "world.reverse()\n",
    "print(world)\n",
    "\n",
    "\n",
    "\"\"\"Измени порядок элементов повторным вызовом reverse(). Выведите список, чтобы показать, что список вернулся к исходному порядку.\"\"\"\n",
    "world.reverse()\n",
    "print(world)\n",
    "\n",
    "\"\"\"Отсортируй список в алфавитном порядке вызовом sort(). Выведите список, чтобы показать, что элементы следуют в другом порядке.\"\"\"\n",
    "world.sort()\n",
    "print(world)\n",
    "\n",
    "\n",
    "\"\"\"Вызови sort() для перестановки элементов списка в обратном алфавитном порядке. Выведи список, чтобы показать, что порядок элементов изменился.\"\"\"\n",
    "world.sort(reverse=True)\n",
    "print(world)\n",
    "\n",
    "\"\"\"Количество гостей: используй len() для вывода сообщения с количеством людей, приглашенных на обед.\"\"\"\n",
    "\n",
    "guest = ['Вася', 'Коля', 'Димас']\n",
    "print('\\n')\n",
    "print(guest)\n",
    "print(len(guest))\n",
    "comeGuest = guest.extend(['Саша', 'Катя', 'Петя'])\n",
    "print(guest)\n",
    "print(len(guest))\n",
    "del guest[3:5]\n",
    "print(guest)\n",
    "print(len(guest))\n"
   ]
  },
  {
   "cell_type": "code",
   "execution_count": null,
   "metadata": {},
   "outputs": [],
   "source": [
    "111"
   ]
  }
 ],
 "metadata": {
  "interpreter": {
   "hash": "745c9fec0adca99698a0501d5f50d2151e289dff3f1d733f8ade96079fa70226"
  },
  "kernelspec": {
   "display_name": "Python 3.7.6 64-bit",
   "language": "python",
   "name": "python3"
  },
  "language_info": {
   "codemirror_mode": {
    "name": "ipython",
    "version": 3
   },
   "file_extension": ".py",
   "mimetype": "text/x-python",
   "name": "python",
   "nbconvert_exporter": "python",
   "pygments_lexer": "ipython3",
   "version": "3.7.6"
  },
  "orig_nbformat": 4
 },
 "nbformat": 4,
 "nbformat_minor": 2
}
